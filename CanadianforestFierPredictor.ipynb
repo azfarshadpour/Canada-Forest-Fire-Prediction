{
 "cells": [
  {
   "cell_type": "code",
   "execution_count": 157,
   "id": "317fd47b-d226-4903-bb23-cb836dfbd9fd",
   "metadata": {},
   "outputs": [],
   "source": [
    "import pandas as pd\n",
    "import matplotlib.pyplot as plt\n",
    "%matplotlib inline"
   ]
  },
  {
   "cell_type": "markdown",
   "id": "c0ffb130-0b0e-4585-9890-43196c5a2972",
   "metadata": {},
   "source": [
    "# Load the data "
   ]
  },
  {
   "cell_type": "code",
   "execution_count": 158,
   "id": "20475088-8aa7-40c3-bb34-731b9b21ddbe",
   "metadata": {},
   "outputs": [],
   "source": [
    "df_viirs= pd.read_csv(r\"E:\\Azadeh\\Data Science-Lighthouse\\Datasets\\ForestFire\\viirs-snpp_2021_Canada.csv\")"
   ]
  },
  {
   "cell_type": "code",
   "execution_count": 159,
   "id": "1c14ee0a-1f58-42ef-b711-2e045cc1d93b",
   "metadata": {},
   "outputs": [],
   "source": [
    "# df_viirs.head()"
   ]
  },
  {
   "cell_type": "markdown",
   "id": "8e529d31-f196-4c80-a48d-5e7011b7ba9f",
   "metadata": {},
   "source": [
    "# Data preproccessing "
   ]
  },
  {
   "cell_type": "code",
   "execution_count": 160,
   "id": "5fc722c9-3be4-46d0-ada3-b6a082c49308",
   "metadata": {},
   "outputs": [],
   "source": [
    "# Convet date column() to datetime format and get year, month, day \n",
    "\n",
    "df_viirs['acq_date'] = pd.to_datetime(df_viirs['acq_date'], format = '%Y-%m-%dT', errors = 'coerce')\n",
    "df_viirs['year'] = df_viirs['acq_date'].dt.year\n",
    "df_viirs['month'] = df_viirs['acq_date'].dt.month\n",
    "df_viirs['day'] = df_viirs['acq_date'].dt.day"
   ]
  },
  {
   "cell_type": "code",
   "execution_count": 161,
   "id": "52a8340e-ac6f-47c4-b055-f4f7f628bf6c",
   "metadata": {},
   "outputs": [
    {
     "data": {
      "text/plain": [
       "2021    450281\n",
       "Name: year, dtype: int64"
      ]
     },
     "execution_count": 161,
     "metadata": {},
     "output_type": "execute_result"
    }
   ],
   "source": [
    "df_viirs.year.value_counts()"
   ]
  },
  {
   "cell_type": "code",
   "execution_count": 162,
   "id": "e65b4db2-79e7-48d9-bd5d-d9df0a5a11e9",
   "metadata": {},
   "outputs": [
    {
     "data": {
      "text/plain": [
       "Index(['latitude', 'longitude', 'bright_ti4', 'scan', 'track', 'acq_date',\n",
       "       'acq_time', 'satellite', 'instrument', 'confidence', 'version',\n",
       "       'bright_ti5', 'frp', 'daynight', 'type', 'year', 'month', 'day'],\n",
       "      dtype='object')"
      ]
     },
     "execution_count": 162,
     "metadata": {},
     "output_type": "execute_result"
    }
   ],
   "source": [
    "df_viirs.columns"
   ]
  },
  {
   "cell_type": "code",
   "execution_count": 163,
   "id": "1af09e8e-e83f-4eb7-9666-53c807ef9ab4",
   "metadata": {},
   "outputs": [
    {
     "data": {
      "text/plain": [
       "50.313446    7\n",
       "50.314133    6\n",
       "52.052299    6\n",
       "53.210983    6\n",
       "52.060452    6\n",
       "            ..\n",
       "56.256706    1\n",
       "56.877625    1\n",
       "56.297642    1\n",
       "56.262840    1\n",
       "53.539963    1\n",
       "Name: latitude, Length: 398194, dtype: int64"
      ]
     },
     "execution_count": 163,
     "metadata": {},
     "output_type": "execute_result"
    }
   ],
   "source": [
    "df_viz.latitude.value_counts()"
   ]
  },
  {
   "cell_type": "code",
   "execution_count": 165,
   "id": "624a2eca-87b9-4624-a1a5-688bf3595647",
   "metadata": {},
   "outputs": [
    {
     "data": {
      "text/plain": [
       "N    450281\n",
       "Name: satellite, dtype: int64"
      ]
     },
     "execution_count": 165,
     "metadata": {},
     "output_type": "execute_result"
    }
   ],
   "source": [
    "# check the columns with one value \n",
    "# the out put shows we have one value for satellite so we can drop it\n",
    "df_viirs.satellite.value_counts()"
   ]
  },
  {
   "cell_type": "code",
   "execution_count": 166,
   "id": "f49b2698-2523-4a0f-8617-1ed0070f0246",
   "metadata": {},
   "outputs": [
    {
     "data": {
      "text/plain": [
       "1    450281\n",
       "Name: version, dtype: int64"
      ]
     },
     "execution_count": 166,
     "metadata": {},
     "output_type": "execute_result"
    }
   ],
   "source": [
    "# the out put indicate that there is only one value for version so we can drop it as well \n",
    "df_viirs.version.value_counts()"
   ]
  },
  {
   "cell_type": "code",
   "execution_count": 167,
   "id": "a1aebe6d-ce5c-425c-ad84-b99e94582e1c",
   "metadata": {},
   "outputs": [
    {
     "data": {
      "text/plain": [
       "VIIRS    450281\n",
       "Name: instrument, dtype: int64"
      ]
     },
     "execution_count": 167,
     "metadata": {},
     "output_type": "execute_result"
    }
   ],
   "source": [
    "df_viirs.instrument.value_counts()"
   ]
  },
  {
   "cell_type": "code",
   "execution_count": 168,
   "id": "534e1c99-a56c-412e-a127-212a76178774",
   "metadata": {},
   "outputs": [],
   "source": [
    "# I dropped satellite, instrument and version because they only have one value so they are not valuable for our model \n",
    "# Also we can drop acq_date as we convert it to datetime features\n",
    "# Because we are predicting the intensity of fire for future the year wouldn't be important for our model so we can drop it \n",
    "df_viirs = df_viirs.drop(['acq_date','satellite','instrument','version','year'],axis=1)"
   ]
  },
  {
   "cell_type": "code",
   "execution_count": 169,
   "id": "3f831f66-8ec8-40ca-9460-3c917c1f0f21",
   "metadata": {},
   "outputs": [
    {
     "data": {
      "text/plain": [
       "n    408734\n",
       "h     27499\n",
       "l     14048\n",
       "Name: confidence, dtype: int64"
      ]
     },
     "execution_count": 169,
     "metadata": {},
     "output_type": "execute_result"
    }
   ],
   "source": [
    "# Checking the values of target variable\n",
    "df_viirs.confidence.value_counts()"
   ]
  },
  {
   "cell_type": "markdown",
   "id": "7929d894-c68e-48a6-ad74-1d030347f579",
   "metadata": {
    "tags": []
   },
   "source": [
    "### seprate indepandant variables as X and the target variable as y\n"
   ]
  },
  {
   "cell_type": "code",
   "execution_count": 170,
   "id": "d490af2d-5084-4c15-8097-bc4875e8051d",
   "metadata": {},
   "outputs": [
    {
     "name": "stdout",
     "output_type": "stream",
     "text": [
      "(450281, 12)\n",
      "(450281,)\n"
     ]
    }
   ],
   "source": [
    "# I dropped satellite and instrument because they only has one value so they are not important for our model \n",
    "X = df_viirs.drop(['confidence'],axis=1)\n",
    "y = df_viirs['confidence']\n",
    "print(X.shape)\n",
    "print(y.shape)"
   ]
  },
  {
   "cell_type": "code",
   "execution_count": 171,
   "id": "200b942b-c9b2-435b-ade3-87c82d9445e6",
   "metadata": {},
   "outputs": [
    {
     "data": {
      "text/plain": [
       "n    408734\n",
       "h     27499\n",
       "l     14048\n",
       "Name: confidence, dtype: int64"
      ]
     },
     "execution_count": 171,
     "metadata": {},
     "output_type": "execute_result"
    }
   ],
   "source": [
    "y.value_counts()"
   ]
  },
  {
   "cell_type": "code",
   "execution_count": 172,
   "id": "e52ba026-1086-4dd5-add8-3f2c32a7dd03",
   "metadata": {},
   "outputs": [],
   "source": [
    "#X.head()"
   ]
  },
  {
   "cell_type": "markdown",
   "id": "6be33da0-e1f0-441b-b528-71033084f589",
   "metadata": {},
   "source": [
    "## Convert categorical variable to nummeric\n",
    "  The only categorical column is daynigh"
   ]
  },
  {
   "cell_type": "code",
   "execution_count": 173,
   "id": "7fee1d9d-a67f-485b-8732-0f95e0b790ce",
   "metadata": {},
   "outputs": [],
   "source": [
    "#daynight = {\"D\": 1, \"N\": 0}\n",
    "#X['daynight']= X['daynight'].map(daynight)\n",
    "X = pd.get_dummies(X, columns=['daynight'])\n",
    "#X.head()"
   ]
  },
  {
   "cell_type": "markdown",
   "id": "77a86fb6-7784-4ec0-9bee-ffcc23145fca",
   "metadata": {
    "tags": []
   },
   "source": [
    "# Applying SMOTE to handle imbalanced data "
   ]
  },
  {
   "cell_type": "code",
   "execution_count": 20,
   "id": "9db9bffb-5afa-4646-a520-498ac2addc18",
   "metadata": {},
   "outputs": [],
   "source": [
    "# we need to split the data before SMOTE\n",
    "from sklearn.model_selection import train_test_split\n",
    "  \n",
    "# split into 70:30 ration\n",
    "X_train, X_test, y_train, y_test = train_test_split(X, y, test_size = 0.3, random_state = 0)\n",
    "\n"
   ]
  },
  {
   "cell_type": "code",
   "execution_count": 174,
   "id": "7ca182a9-c3af-4728-aafd-52483e6860f7",
   "metadata": {},
   "outputs": [],
   "source": [
    "#X_train.shape\n",
    "#X_train.head()"
   ]
  },
  {
   "cell_type": "code",
   "execution_count": 22,
   "id": "0f162ca7-3164-4ede-a35b-be809871a7bf",
   "metadata": {},
   "outputs": [
    {
     "data": {
      "text/plain": [
       "(315196,)"
      ]
     },
     "execution_count": 22,
     "metadata": {},
     "output_type": "execute_result"
    }
   ],
   "source": [
    "y_train.shape"
   ]
  },
  {
   "cell_type": "code",
   "execution_count": 23,
   "id": "73ce346b-f1d0-43a5-8eb4-74737c21fd25",
   "metadata": {},
   "outputs": [
    {
     "data": {
      "text/plain": [
       "(135085, 13)"
      ]
     },
     "execution_count": 23,
     "metadata": {},
     "output_type": "execute_result"
    }
   ],
   "source": [
    "X_test.shape"
   ]
  },
  {
   "cell_type": "code",
   "execution_count": 24,
   "id": "ae196b9a-5b90-44b5-b8f0-99660587fcf6",
   "metadata": {},
   "outputs": [
    {
     "name": "stdout",
     "output_type": "stream",
     "text": [
      "(858663, 13)\n",
      "(858663,)\n"
     ]
    }
   ],
   "source": [
    "# SMOTE\n",
    "from imblearn.over_sampling import SMOTE\n",
    "sm = SMOTE(random_state=42)\n",
    "X_smote, y_smote = sm.fit_resample(X_train, y_train)\n",
    "\n",
    "print(X_smote.shape)\n",
    "print(y_smote.shape)"
   ]
  },
  {
   "cell_type": "code",
   "execution_count": 148,
   "id": "d014904a-6bfe-4b79-9565-c7010b3e60f1",
   "metadata": {},
   "outputs": [
    {
     "data": {
      "image/png": "[encoded data removed]",
      "text/plain": [
       "<Figure size 504x360 with 1 Axes>"
      ]
     },
     "metadata": {
      "needs_background": "light"
     },
     "output_type": "display_data"
    }
   ],
   "source": [
    "# plot the balanced data \n",
    "fig= plt.figure(figsize=(7,5)) \n",
    "y_smote.value_counts().plot(kind='bar', color={\"gray\", \"gray\",'gray'})\n",
    "plt.title('balanced target after applying SMOTE')\n",
    "plt.xlabel('Target values')\n",
    "plt.ylabel('Amount per label')\n",
    "plt.show()\n",
    "#fig.savefig('Balanced_SMOTE.jpg', bbox_inches='tight', dpi=150)"
   ]
  },
  {
   "cell_type": "code",
   "execution_count": 175,
   "id": "3fb3606d-020c-4578-b342-21d0b5c00543",
   "metadata": {},
   "outputs": [],
   "source": [
    "#X_smote.head()"
   ]
  },
  {
   "cell_type": "code",
   "execution_count": 176,
   "id": "c4681d18-f3fb-4b20-ac78-03877d9b720f",
   "metadata": {},
   "outputs": [],
   "source": [
    "#X_smote.info()"
   ]
  },
  {
   "cell_type": "markdown",
   "id": "a00fff9e-d5ed-49a4-868e-69754c7e19c4",
   "metadata": {},
   "source": [
    "# Feature Engineering"
   ]
  },
  {
   "cell_type": "code",
   "execution_count": 178,
   "id": "0b67e9cd-c88f-499c-a793-71a99084abf5",
   "metadata": {},
   "outputs": [
    {
     "data": {
      "text/plain": [
       "<Figure size 720x720 with 0 Axes>"
      ]
     },
     "execution_count": 178,
     "metadata": {},
     "output_type": "execute_result"
    },
    {
     "data": {
      "text/plain": [
       "<Figure size 720x720 with 0 Axes>"
      ]
     },
     "metadata": {},
     "output_type": "display_data"
    }
   ],
   "source": [
    "# checking the correlation matrix to find correlated features\n",
    "\n",
    "import matplotlib.pyplot as plt\n",
    "plt.figure(figsize=(10, 10))\n",
    "sns.heatmap(X_smote.corr(), annot=True, vmax=1, vmin=-1, center=0, cmap='vlag')\n",
    "plt.show()"
   ]
  },
  {
   "cell_type": "markdown",
   "id": "0d21a7bd-2dab-4266-974a-9a0f9f830bf7",
   "metadata": {
    "tags": []
   },
   "source": [
    "### Plot Only the Lower Half of a Correlation Matrix "
   ]
  },
  {
   "cell_type": "code",
   "execution_count": 179,
   "id": "fac57aea-3b81-4302-ab50-0b60e46b6ac0",
   "metadata": {},
   "outputs": [
    {
     "data": {
      "text/plain": [
       "<Figure size 720x720 with 0 Axes>"
      ]
     },
     "execution_count": 179,
     "metadata": {},
     "output_type": "execute_result"
    },
    {
     "data": {
      "text/plain": [
       "<Figure size 720x720 with 0 Axes>"
      ]
     },
     "metadata": {},
     "output_type": "display_data"
    }
   ],
   "source": [
    "import numpy as np\n",
    "\n",
    "mask = np.triu(np.ones_like(X_smote.corr(), dtype=bool))\n",
    "plt.figure(figsize=(10, 10))\n",
    "\n",
    "sns.heatmap(X_smote.corr(), annot=True, vmax=1, vmin=-1, center=0, cmap='vlag', mask=mask)\n",
    "plt.show()"
   ]
  },
  {
   "cell_type": "code",
   "execution_count": 180,
   "id": "fcf6ec30-7e5b-4c16-b2b1-ed73e4ebbdfe",
   "metadata": {},
   "outputs": [],
   "source": [
    "# Removing Features With Small Variance\n",
    "from sklearn.feature_selection import VarianceThreshold\n",
    "\n",
    "vt = VarianceThreshold(0.1)\n",
    "df_transformed = vt.fit_transform(X_smote)\n",
    "\n",
    "# get the columns to see which ones are removed\n",
    "selected_columns = X_smote.columns[vt.get_support()]\n",
    "# transforming an array back to a data-frame preserves column labels\n",
    "df_transformed = pd.DataFrame(df_transformed, columns = selected_columns)\n",
    "#df_transformed"
   ]
  },
  {
   "cell_type": "markdown",
   "id": "830967d6-b6a7-4c8d-bd50-87707ca9ac7a",
   "metadata": {},
   "source": [
    "### As you can see Scan and Track variables that have a low variance are removed  "
   ]
  },
  {
   "cell_type": "code",
   "execution_count": 31,
   "id": "0da47855-729b-4586-b83b-34f5e53ec9d3",
   "metadata": {},
   "outputs": [],
   "source": [
    "#removing the features with less correlation based on correlation matrix(<.5)\n",
    "\n",
    "df_corr = df_transformed.corr().abs()\n",
    "\n",
    "# step 2\n",
    "indices = np.where(df_corr > 0.5) \n",
    "indices = [(df_corr.index[x], df_corr.columns[y]) \n",
    "             for x, y in zip(*indices) if x != y and x < y]\n",
    "\n",
    "# step 3\n",
    "for idx in indices: #each pair\n",
    "    try:\n",
    "        df_transformed.drop(idx[1], axis = 1, inplace=True)\n",
    "    except KeyError:\n",
    "        pass"
   ]
  },
  {
   "cell_type": "code",
   "execution_count": 32,
   "id": "b8057a1d-31ef-4352-af1b-51966707f9af",
   "metadata": {},
   "outputs": [
    {
     "name": "stdout",
     "output_type": "stream",
     "text": [
      "[('acq_time', 'daynight_D'), ('acq_time', 'daynight_N'), ('bright_ti5', 'frp'), ('daynight_D', 'daynight_N')]\n"
     ]
    }
   ],
   "source": [
    "print(indices)"
   ]
  },
  {
   "cell_type": "code",
   "execution_count": 181,
   "id": "b29ef91e-ebcb-4876-8f2d-1af3f441c93b",
   "metadata": {},
   "outputs": [],
   "source": [
    "#df_transformed.head()"
   ]
  },
  {
   "cell_type": "code",
   "execution_count": 34,
   "id": "14f38dbd-da73-4a86-bf91-53221999137c",
   "metadata": {},
   "outputs": [
    {
     "data": {
      "text/plain": [
       "Index(['latitude', 'longitude', 'bright_ti4', 'acq_time', 'bright_ti5', 'type',\n",
       "       'month', 'day'],\n",
       "      dtype='object')"
      ]
     },
     "execution_count": 34,
     "metadata": {},
     "output_type": "execute_result"
    }
   ],
   "source": [
    "# printing the features we will use for prediction \n",
    "df_transformed.columns"
   ]
  },
  {
   "cell_type": "code",
   "execution_count": 35,
   "id": "77f92486-8a77-470b-a9f4-a6da31d0b551",
   "metadata": {},
   "outputs": [],
   "source": [
    "# Set the Train ans Test set based on the selected features\n",
    "columns=['latitude', 'longitude', 'bright_ti4', 'acq_time', 'bright_ti5', 'type',\n",
    "            'month', 'day']\n",
    "X_smote= X_smote[columns]\n",
    "X_test= X_test[columns] "
   ]
  },
  {
   "cell_type": "markdown",
   "id": "9ac31e2e-c279-47cf-b139-ec62a80e8405",
   "metadata": {},
   "source": [
    "# Building the model"
   ]
  },
  {
   "cell_type": "markdown",
   "id": "658cf2af-2c3f-45e4-be00-bd8f31fa4e59",
   "metadata": {
    "tags": []
   },
   "source": [
    "## Naive bayes classifier\n"
   ]
  },
  {
   "cell_type": "code",
   "execution_count": 36,
   "id": "4679e292-dd9c-40bc-a6df-2146b6b3af3c",
   "metadata": {},
   "outputs": [],
   "source": [
    "from sklearn.metrics import confusion_matrix\n",
    "from sklearn.naive_bayes import GaussianNB\n",
    "from sklearn.metrics import classification_report\n",
    "\n",
    "gnb = GaussianNB().fit(X_smote, y_smote)\n",
    "gnb_predictions = gnb.predict(X_test)"
   ]
  },
  {
   "cell_type": "code",
   "execution_count": 37,
   "id": "c379c52c-aff6-4930-aa95-96a86f78cea7",
   "metadata": {},
   "outputs": [
    {
     "name": "stdout",
     "output_type": "stream",
     "text": [
      "Naive bayes accuracy: \n",
      "train set accuracy:  0.7410567358789187\n",
      "test set accuracy:  0.7150756930821335\n",
      "\n",
      "              precision    recall  f1-score   support\n",
      "\n",
      "           h       0.82      1.00      0.90      8305\n",
      "           l       0.05      0.49      0.10      4267\n",
      "           n       1.00      0.70      0.82    122513\n",
      "\n",
      "    accuracy                           0.72    135085\n",
      "   macro avg       0.62      0.73      0.61    135085\n",
      "weighted avg       0.96      0.72      0.81    135085\n",
      "\n"
     ]
    }
   ],
   "source": [
    "train_accuracy = gnb.score(X_smote, y_smote)\n",
    "test_accuracy = gnb.score(X_test, y_test)\n",
    "print ('Naive bayes accuracy: ')\n",
    "print('train set accuracy: ', train_accuracy)\n",
    "print('test set accuracy: ', test_accuracy)\n",
    "print()\n",
    "print(classification_report(y_test, gnb_predictions))\n",
    "\n"
   ]
  },
  {
   "cell_type": "code",
   "execution_count": 38,
   "id": "8ffbf992-2ceb-4587-9348-61bcad0012f2",
   "metadata": {},
   "outputs": [
    {
     "name": "stdout",
     "output_type": "stream",
     "text": [
      "Gaussian Naive Bayes model accuracy(in %): 71.50756930821335\n"
     ]
    }
   ],
   "source": [
    "from sklearn import metrics\n",
    "print(\"Gaussian Naive Bayes model accuracy(in %):\", metrics.accuracy_score(y_test, gnb_predictions)*100)"
   ]
  },
  {
   "cell_type": "code",
   "execution_count": 58,
   "id": "485e2f50-1e78-4923-a692-dad85924b1ae",
   "metadata": {},
   "outputs": [
    {
     "data": {
      "image/png": "[encoded data removed]",
      "text/plain": [
       "<Figure size 504x432 with 2 Axes>"
      ]
     },
     "metadata": {
      "needs_background": "light"
     },
     "output_type": "display_data"
    }
   ],
   "source": [
    "# plot the confusion matrix\n",
    "\n",
    "from sklearn.metrics import confusion_matrix\n",
    "\n",
    "cf_matrix_NB = confusion_matrix(y_test, gnb_predictions)\n",
    "class_names=['Low','Nominal','High']\n",
    "fig, ax = plt.subplots(figsize=(7, 6))\n",
    "\n",
    "ax = sns.heatmap(cf_matrix_NB, annot=True, cmap=\"Blues\", fmt='g')\n",
    "ax.xaxis.set_label_position(\"top\")\n",
    "\n",
    "ax.set_title('Confusion Matrix with labels\\n\\n');\n",
    "ax.set_xlabel('\\nPredicted Values')\n",
    "ax.set_ylabel('Actual Values ');\n",
    "\n",
    "## Ticket labels - List must be in alphabetical order\n",
    "#ax.xaxis.set_ticklabels(Col_name)\n",
    "#ax.yaxis.set_ticklabels(Col_name)\n",
    "tick_marks = [0.5, 1.5,2]\n",
    "plt.xticks(tick_marks, class_names)\n",
    "plt.yticks(tick_marks, class_names)\n",
    "\n",
    "## Display the visualization of the Confusion Matrix.\n",
    "plt.show()"
   ]
  },
  {
   "cell_type": "code",
   "execution_count": 59,
   "id": "d82e3caa-c128-4db4-9cc1-4e6e0f69eee5",
   "metadata": {},
   "outputs": [],
   "source": [
    "fig.savefig('NaiveBayes_Confusion_matrix.jpg', bbox_inches='tight', dpi=300)"
   ]
  },
  {
   "cell_type": "code",
   "execution_count": 182,
   "id": "2c3727a9-0cbe-4313-8195-47bd8f192cac",
   "metadata": {},
   "outputs": [],
   "source": [
    "df = pd.DataFrame({'Actual': y_test, 'Predicted': gnb_predictions})\n",
    "#df"
   ]
  },
  {
   "cell_type": "markdown",
   "id": "ec0ba612-ec70-4913-98bd-92efe07f954f",
   "metadata": {},
   "source": [
    "# Random Forest Classifier"
   ]
  },
  {
   "cell_type": "code",
   "execution_count": 42,
   "id": "96692ca9-b7b7-4947-b0e5-5526f95bacdc",
   "metadata": {},
   "outputs": [
    {
     "name": "stdout",
     "output_type": "stream",
     "text": [
      "Best: [0.94143803 0.94338757 0.94165813 0.98788349 0.9881234  0.98805818\n",
      " 0.98792192 0.98800344 0.98805352], using {'max_depth': 50, 'n_estimators': 128}\n"
     ]
    },
    {
     "data": {
      "text/html": [
       "<div>\n",
       "<style scoped>\n",
       "    .dataframe tbody tr th:only-of-type {\n",
       "        vertical-align: middle;\n",
       "    }\n",
       "\n",
       "    .dataframe tbody tr th {\n",
       "        vertical-align: top;\n",
       "    }\n",
       "\n",
       "    .dataframe thead th {\n",
       "        text-align: right;\n",
       "    }\n",
       "</style>\n",
       "<table border=\"1\" class=\"dataframe\">\n",
       "  <thead>\n",
       "    <tr style=\"text-align: right;\">\n",
       "      <th></th>\n",
       "      <th>mean_fit_time</th>\n",
       "      <th>std_fit_time</th>\n",
       "      <th>mean_score_time</th>\n",
       "      <th>std_score_time</th>\n",
       "      <th>param_max_depth</th>\n",
       "      <th>param_n_estimators</th>\n",
       "      <th>params</th>\n",
       "      <th>split0_test_score</th>\n",
       "      <th>split1_test_score</th>\n",
       "      <th>split2_test_score</th>\n",
       "      <th>split3_test_score</th>\n",
       "      <th>split4_test_score</th>\n",
       "      <th>mean_test_score</th>\n",
       "      <th>std_test_score</th>\n",
       "      <th>rank_test_score</th>\n",
       "    </tr>\n",
       "  </thead>\n",
       "  <tbody>\n",
       "    <tr>\n",
       "      <th>0</th>\n",
       "      <td>66.234908</td>\n",
       "      <td>5.386583</td>\n",
       "      <td>1.313431</td>\n",
       "      <td>0.109139</td>\n",
       "      <td>10</td>\n",
       "      <td>64</td>\n",
       "      <td>{'max_depth': 10, 'n_estimators': 64}</td>\n",
       "      <td>0.927469</td>\n",
       "      <td>0.943366</td>\n",
       "      <td>0.947215</td>\n",
       "      <td>0.941164</td>\n",
       "      <td>0.947977</td>\n",
       "      <td>0.941438</td>\n",
       "      <td>0.007417</td>\n",
       "      <td>9</td>\n",
       "    </tr>\n",
       "    <tr>\n",
       "      <th>1</th>\n",
       "      <td>123.676717</td>\n",
       "      <td>3.221596</td>\n",
       "      <td>2.437193</td>\n",
       "      <td>0.156163</td>\n",
       "      <td>10</td>\n",
       "      <td>128</td>\n",
       "      <td>{'max_depth': 10, 'n_estimators': 128}</td>\n",
       "      <td>0.935994</td>\n",
       "      <td>0.948624</td>\n",
       "      <td>0.941164</td>\n",
       "      <td>0.946824</td>\n",
       "      <td>0.944332</td>\n",
       "      <td>0.943388</td>\n",
       "      <td>0.004466</td>\n",
       "      <td>7</td>\n",
       "    </tr>\n",
       "    <tr>\n",
       "      <th>2</th>\n",
       "      <td>226.997688</td>\n",
       "      <td>2.159923</td>\n",
       "      <td>4.651444</td>\n",
       "      <td>0.308394</td>\n",
       "      <td>10</td>\n",
       "      <td>256</td>\n",
       "      <td>{'max_depth': 10, 'n_estimators': 256}</td>\n",
       "      <td>0.944722</td>\n",
       "      <td>0.943546</td>\n",
       "      <td>0.944024</td>\n",
       "      <td>0.932342</td>\n",
       "      <td>0.943656</td>\n",
       "      <td>0.941658</td>\n",
       "      <td>0.004676</td>\n",
       "      <td>8</td>\n",
       "    </tr>\n",
       "    <tr>\n",
       "      <th>3</th>\n",
       "      <td>77.962321</td>\n",
       "      <td>0.673183</td>\n",
       "      <td>2.154145</td>\n",
       "      <td>0.045028</td>\n",
       "      <td>50</td>\n",
       "      <td>64</td>\n",
       "      <td>{'max_depth': 50, 'n_estimators': 64}</td>\n",
       "      <td>0.986368</td>\n",
       "      <td>0.988872</td>\n",
       "      <td>0.988016</td>\n",
       "      <td>0.987987</td>\n",
       "      <td>0.988173</td>\n",
       "      <td>0.987883</td>\n",
       "      <td>0.000823</td>\n",
       "      <td>6</td>\n",
       "    </tr>\n",
       "    <tr>\n",
       "      <th>4</th>\n",
       "      <td>231.324641</td>\n",
       "      <td>142.766970</td>\n",
       "      <td>5.154957</td>\n",
       "      <td>1.771232</td>\n",
       "      <td>50</td>\n",
       "      <td>128</td>\n",
       "      <td>{'max_depth': 50, 'n_estimators': 128}</td>\n",
       "      <td>0.986654</td>\n",
       "      <td>0.988948</td>\n",
       "      <td>0.988057</td>\n",
       "      <td>0.988389</td>\n",
       "      <td>0.988569</td>\n",
       "      <td>0.988123</td>\n",
       "      <td>0.000789</td>\n",
       "      <td>1</td>\n",
       "    </tr>\n",
       "    <tr>\n",
       "      <th>5</th>\n",
       "      <td>317.836405</td>\n",
       "      <td>4.867959</td>\n",
       "      <td>11.006320</td>\n",
       "      <td>0.369415</td>\n",
       "      <td>50</td>\n",
       "      <td>256</td>\n",
       "      <td>{'max_depth': 50, 'n_estimators': 256}</td>\n",
       "      <td>0.986531</td>\n",
       "      <td>0.988890</td>\n",
       "      <td>0.988174</td>\n",
       "      <td>0.988237</td>\n",
       "      <td>0.988459</td>\n",
       "      <td>0.988058</td>\n",
       "      <td>0.000804</td>\n",
       "      <td>2</td>\n",
       "    </tr>\n",
       "    <tr>\n",
       "      <th>6</th>\n",
       "      <td>108.982398</td>\n",
       "      <td>53.819858</td>\n",
       "      <td>2.596664</td>\n",
       "      <td>0.461681</td>\n",
       "      <td>100</td>\n",
       "      <td>64</td>\n",
       "      <td>{'max_depth': 100, 'n_estimators': 64}</td>\n",
       "      <td>0.986508</td>\n",
       "      <td>0.988756</td>\n",
       "      <td>0.988010</td>\n",
       "      <td>0.988121</td>\n",
       "      <td>0.988214</td>\n",
       "      <td>0.987922</td>\n",
       "      <td>0.000752</td>\n",
       "      <td>5</td>\n",
       "    </tr>\n",
       "    <tr>\n",
       "      <th>7</th>\n",
       "      <td>165.467549</td>\n",
       "      <td>6.227326</td>\n",
       "      <td>4.371369</td>\n",
       "      <td>0.236673</td>\n",
       "      <td>100</td>\n",
       "      <td>128</td>\n",
       "      <td>{'max_depth': 100, 'n_estimators': 128}</td>\n",
       "      <td>0.986491</td>\n",
       "      <td>0.988762</td>\n",
       "      <td>0.988045</td>\n",
       "      <td>0.988255</td>\n",
       "      <td>0.988465</td>\n",
       "      <td>0.988003</td>\n",
       "      <td>0.000793</td>\n",
       "      <td>4</td>\n",
       "    </tr>\n",
       "    <tr>\n",
       "      <th>8</th>\n",
       "      <td>501.347804</td>\n",
       "      <td>370.274183</td>\n",
       "      <td>11.250421</td>\n",
       "      <td>0.463648</td>\n",
       "      <td>100</td>\n",
       "      <td>256</td>\n",
       "      <td>{'max_depth': 100, 'n_estimators': 256}</td>\n",
       "      <td>0.986584</td>\n",
       "      <td>0.988750</td>\n",
       "      <td>0.988109</td>\n",
       "      <td>0.988389</td>\n",
       "      <td>0.988435</td>\n",
       "      <td>0.988054</td>\n",
       "      <td>0.000762</td>\n",
       "      <td>3</td>\n",
       "    </tr>\n",
       "  </tbody>\n",
       "</table>\n",
       "</div>"
      ],
      "text/plain": [
       "   mean_fit_time  std_fit_time  mean_score_time  std_score_time  \\\n",
       "0      66.234908      5.386583         1.313431        0.109139   \n",
       "1     123.676717      3.221596         2.437193        0.156163   \n",
       "2     226.997688      2.159923         4.651444        0.308394   \n",
       "3      77.962321      0.673183         2.154145        0.045028   \n",
       "4     231.324641    142.766970         5.154957        1.771232   \n",
       "5     317.836405      4.867959        11.006320        0.369415   \n",
       "6     108.982398     53.819858         2.596664        0.461681   \n",
       "7     165.467549      6.227326         4.371369        0.236673   \n",
       "8     501.347804    370.274183        11.250421        0.463648   \n",
       "\n",
       "  param_max_depth param_n_estimators                                   params  \\\n",
       "0              10                 64    {'max_depth': 10, 'n_estimators': 64}   \n",
       "1              10                128   {'max_depth': 10, 'n_estimators': 128}   \n",
       "2              10                256   {'max_depth': 10, 'n_estimators': 256}   \n",
       "3              50                 64    {'max_depth': 50, 'n_estimators': 64}   \n",
       "4              50                128   {'max_depth': 50, 'n_estimators': 128}   \n",
       "5              50                256   {'max_depth': 50, 'n_estimators': 256}   \n",
       "6             100                 64   {'max_depth': 100, 'n_estimators': 64}   \n",
       "7             100                128  {'max_depth': 100, 'n_estimators': 128}   \n",
       "8             100                256  {'max_depth': 100, 'n_estimators': 256}   \n",
       "\n",
       "   split0_test_score  split1_test_score  split2_test_score  split3_test_score  \\\n",
       "0           0.927469           0.943366           0.947215           0.941164   \n",
       "1           0.935994           0.948624           0.941164           0.946824   \n",
       "2           0.944722           0.943546           0.944024           0.932342   \n",
       "3           0.986368           0.988872           0.988016           0.987987   \n",
       "4           0.986654           0.988948           0.988057           0.988389   \n",
       "5           0.986531           0.988890           0.988174           0.988237   \n",
       "6           0.986508           0.988756           0.988010           0.988121   \n",
       "7           0.986491           0.988762           0.988045           0.988255   \n",
       "8           0.986584           0.988750           0.988109           0.988389   \n",
       "\n",
       "   split4_test_score  mean_test_score  std_test_score  rank_test_score  \n",
       "0           0.947977         0.941438        0.007417                9  \n",
       "1           0.944332         0.943388        0.004466                7  \n",
       "2           0.943656         0.941658        0.004676                8  \n",
       "3           0.988173         0.987883        0.000823                6  \n",
       "4           0.988569         0.988123        0.000789                1  \n",
       "5           0.988459         0.988058        0.000804                2  \n",
       "6           0.988214         0.987922        0.000752                5  \n",
       "7           0.988465         0.988003        0.000793                4  \n",
       "8           0.988435         0.988054        0.000762                3  "
      ]
     },
     "execution_count": 42,
     "metadata": {},
     "output_type": "execute_result"
    }
   ],
   "source": [
    "from sklearn.model_selection import GridSearchCV\n",
    "from sklearn.ensemble import RandomForestClassifier\n",
    "\n",
    "# tunning hyper parameters with gridsearch\n",
    "\n",
    "max_depth=[ 10,50,100]\n",
    "n_estimators = [64, 128, 256]\n",
    "param_grid = dict(max_depth=max_depth, n_estimators=n_estimators)\n",
    "\n",
    "# Build the grid search\n",
    "dfrst = RandomForestClassifier(n_estimators=n_estimators, max_depth=max_depth)\n",
    "grid = GridSearchCV(estimator=dfrst, param_grid=param_grid, cv = 5)\n",
    "grid_results = grid.fit(X_smote, y_smote)\n",
    "\n",
    "# Summarize the results in a readable format\n",
    "print(\"Best: {0}, using {1}\".format(grid_results.cv_results_['mean_test_score'], grid_results.best_params_))\n",
    "results_df = pd.DataFrame(grid_results.cv_results_)\n",
    "results_df"
   ]
  },
  {
   "cell_type": "code",
   "execution_count": 44,
   "id": "e635a9e2-e657-43c3-a330-f2ba032f69a7",
   "metadata": {},
   "outputs": [
    {
     "data": {
      "text/plain": [
       "RandomForestClassifier(max_depth=50, n_estimators=128)"
      ]
     },
     "execution_count": 44,
     "metadata": {},
     "output_type": "execute_result"
    }
   ],
   "source": [
    "grid_results.best_estimator_"
   ]
  },
  {
   "cell_type": "code",
   "execution_count": 45,
   "id": "1ca45451-1ab1-4dd4-a820-ae9f9a8665a4",
   "metadata": {},
   "outputs": [
    {
     "data": {
      "text/plain": [
       "([<matplotlib.axis.YTick at 0x18c15528550>,\n",
       "  <matplotlib.axis.YTick at 0x18c15505c10>,\n",
       "  <matplotlib.axis.YTick at 0x18c080731f0>],\n",
       " [Text(0, 0.5, 'Low'), Text(0, 1.5, 'Nominal'), Text(0, 2.0, 'High')])"
      ]
     },
     "execution_count": 45,
     "metadata": {},
     "output_type": "execute_result"
    },
    {
     "data": {
      "image/png": "[encoded data removed]",
      "text/plain": [
       "<Figure size 504x432 with 2 Axes>"
      ]
     },
     "metadata": {
      "needs_background": "light"
     },
     "output_type": "display_data"
    }
   ],
   "source": [
    "dfrst = RandomForestClassifier(n_estimators=128, max_depth=50)\n",
    "dfrst.fit(X_smote, y_smote)\n",
    "#best_clf = grid_results.best_estimator_\n",
    "y_pred_rf = dfrst.predict(X_test)\n",
    "\n",
    "# Create a confusion matrix\n",
    "cnf_matrix_rf = confusion_matrix(y_test, y_pred_rf)\n",
    "\n",
    "class_names= ['Low','Nominal','High']\n",
    "\n",
    "fig, ax = plt.subplots(figsize=(7, 6))\n",
    "sns.heatmap(pd.DataFrame(cnf_matrix_rf), annot=True, cmap=\"Blues\", fmt='g')\n",
    "ax.xaxis.set_label_position(\"top\")\n",
    "plt.tight_layout()\n",
    "plt.title('Confusion matrix with labels\\n')\n",
    "plt.ylabel('Actual label')\n",
    "plt.xlabel('Predicted label')\n",
    "tick_marks = [0.5, 1.5,2]\n",
    "plt.xticks(tick_marks, class_names)\n",
    "plt.yticks(tick_marks, class_names)"
   ]
  },
  {
   "cell_type": "code",
   "execution_count": 46,
   "id": "01acaab7-bb0e-424d-980e-4eed91418761",
   "metadata": {},
   "outputs": [],
   "source": [
    "#fig.savefig('RandomForest_Confusion_matrix.jpg', bbox_inches='tight', dpi=300)"
   ]
  },
  {
   "cell_type": "code",
   "execution_count": 68,
   "id": "d9a56c14-bc61-4e69-8062-f5321ad05983",
   "metadata": {},
   "outputs": [
    {
     "name": "stdout",
     "output_type": "stream",
     "text": [
      "Random Forest accuracy:\n",
      "\n",
      "Accuracy on train set (max_depth: 50, n_estimators: 256):  100.0 %\n",
      "Accuracy on test set (max_depth: 50, n_estimators: 256):  98.76 %\n",
      "\n",
      "              precision    recall  f1-score   support\n",
      "\n",
      "           h       0.96      0.97      0.96      8305\n",
      "           l       0.76      0.88      0.82      4267\n",
      "           n       1.00      0.99      1.00    122513\n",
      "\n",
      "    accuracy                           0.99    135085\n",
      "   macro avg       0.91      0.95      0.93    135085\n",
      "weighted avg       0.99      0.99      0.99    135085\n",
      "\n"
     ]
    }
   ],
   "source": [
    "#Checking the accuracy\n",
    "train_accuracy = round(grid_results.score(X_smote, y_smote)*100,2)\n",
    "test_accuracy = round(grid_results.score(X_test, y_test)*100,2)\n",
    "print ('Random Forest accuracy:')\n",
    "print()\n",
    "print('Accuracy on train set (max_depth: 50, n_estimators: 256): ', train_accuracy,'%')\n",
    "print('Accuracy on test set (max_depth: 50, n_estimators: 256): ', test_accuracy,'%')\n",
    "print()\n",
    "print(classification_report(y_test, y_pred_rf))\n",
    "\n"
   ]
  },
  {
   "cell_type": "code",
   "execution_count": 71,
   "id": "4fc83fc7-985e-44bb-a64c-ac201b79a6a3",
   "metadata": {},
   "outputs": [],
   "source": [
    "# Save random forest Model \n",
    "import pickle\n",
    "\n",
    "pickle.dump( dfrst, open( \"RandomForest_model\", \"wb\" ) )\n"
   ]
  },
  {
   "cell_type": "markdown",
   "id": "8c833072-0dd6-405b-b7d7-91f5a45b8a6c",
   "metadata": {
    "tags": []
   },
   "source": [
    "# Gradient Boosting algorithm"
   ]
  },
  {
   "cell_type": "code",
   "execution_count": 183,
   "id": "a0821363-6f16-47c3-984a-91561df0ac90",
   "metadata": {},
   "outputs": [],
   "source": [
    "from sklearn.ensemble import GradientBoostingClassifier\n",
    "\n",
    "gradient_booster = GradientBoostingClassifier(learning_rate=0.1, max_depth=10, n_estimators=100)\n",
    "#gradient_booster.get_params()"
   ]
  },
  {
   "cell_type": "code",
   "execution_count": 70,
   "id": "e4580aa6-892a-4bb7-b247-4495974a0e38",
   "metadata": {},
   "outputs": [
    {
     "name": "stdout",
     "output_type": "stream",
     "text": [
      "              precision    recall  f1-score   support\n",
      "\n",
      "           h       0.96      0.97      0.96      8305\n",
      "           l       0.75      0.91      0.82      4267\n",
      "           n       1.00      0.99      1.00    122513\n",
      "\n",
      "    accuracy                           0.99    135085\n",
      "   macro avg       0.91      0.96      0.93    135085\n",
      "weighted avg       0.99      0.99      0.99    135085\n",
      "\n"
     ]
    }
   ],
   "source": [
    "gradient_booster.fit(X_smote, y_smote)\n",
    "y_pred_gb= gradient_booster.predict(X_test)\n",
    "print(classification_report(y_test,y_pred_gb))"
   ]
  },
  {
   "cell_type": "code",
   "execution_count": 72,
   "id": "e6fd3645-32cf-4440-bffc-9ed8b5f41e42",
   "metadata": {},
   "outputs": [
    {
     "name": "stdout",
     "output_type": "stream",
     "text": [
      "0.9877188436910094\n"
     ]
    }
   ],
   "source": [
    "print(gradient_booster.score(X_test, y_test)) "
   ]
  },
  {
   "cell_type": "markdown",
   "id": "506e0106-7c41-4ff9-a999-f2b2b3ee7550",
   "metadata": {},
   "source": [
    "# XGboost Algorithm "
   ]
  },
  {
   "cell_type": "code",
   "execution_count": 73,
   "id": "d55ba91a-ac8a-48f9-8ab0-ad0e62143796",
   "metadata": {},
   "outputs": [],
   "source": [
    "# because our lables are not numeric we need to convert it to numeric for XGboost\n",
    "from sklearn.preprocessing import LabelEncoder\n",
    "\n",
    "label_encoder = LabelEncoder()\n",
    "label_encoder = label_encoder.fit(y_smote)\n",
    "label_encoded_y = label_encoder.transform(y_smote)"
   ]
  },
  {
   "cell_type": "code",
   "execution_count": 74,
   "id": "29fcaddd-db5e-41b5-b228-7f1ed9c36ecc",
   "metadata": {},
   "outputs": [],
   "source": [
    "test_encoder= LabelEncoder()\n",
    "test_encoder= test_encoder.fit(y_test)\n",
    "y_test_encoded= test_encoder.transform(y_test)\n"
   ]
  },
  {
   "cell_type": "code",
   "execution_count": 76,
   "id": "b6e64c74-75bf-4dba-b8ab-a41f70202014",
   "metadata": {},
   "outputs": [],
   "source": [
    "import xgboost as xgb\n",
    "xgb_model = xgb.XGBClassifier(objective ='objective=multi:softmax', max_depth=10, n_estimators=100, learning_rate=0.1,use_label_encoder=False,eval_metric='logloss') \n",
    "xgb_model.fit(X_smote, label_encoded_y)\n",
    "\n",
    "y_pred_xgb= xgb_model.predict(X_test)\n",
    "\n",
    "prob_train = xgb_model.predict_proba(X_smote)\n",
    "prob_test = xgb_model.predict_proba(X_test)"
   ]
  },
  {
   "cell_type": "code",
   "execution_count": 184,
   "id": "9c2acfdc-beff-40c4-aec8-7e1025fecc08",
   "metadata": {},
   "outputs": [
    {
     "name": "stdout",
     "output_type": "stream",
     "text": [
      "\n",
      "\n",
      "              precision    recall  f1-score   support\n",
      "\n",
      "           0       0.97      0.96      0.96      8305\n",
      "           1       0.74      0.92      0.82      4267\n",
      "           2       1.00      0.99      1.00    122513\n",
      "\n",
      "    accuracy                           0.99    135085\n",
      "   macro avg       0.90      0.96      0.93    135085\n",
      "weighted avg       0.99      0.99      0.99    135085\n",
      "\n"
     ]
    }
   ],
   "source": [
    "#xgb.plot_importance(xgb_model)\n",
    "print()\n",
    "print()\n",
    "print(classification_report(y_test_encoded, y_pred_xgb))"
   ]
  },
  {
   "cell_type": "code",
   "execution_count": 79,
   "id": "42550693-29c9-43a4-807a-2df7ce06d1c6",
   "metadata": {},
   "outputs": [
    {
     "name": "stdout",
     "output_type": "stream",
     "text": [
      "Accuracy: 98.75%\n"
     ]
    }
   ],
   "source": [
    "#print('Probability of ')\n",
    "from sklearn.metrics import accuracy_score\n",
    "accuracy = accuracy_score(y_test_encoded, y_pred_xgb)\n",
    "print(\"Accuracy: %.2f%%\" % (accuracy * 100.0))"
   ]
  },
  {
   "cell_type": "code",
   "execution_count": 187,
   "id": "b29e4eea-57bb-4b2a-ba18-6d9937d9cb06",
   "metadata": {},
   "outputs": [],
   "source": [
    "# plot confusion matrix\n",
    "cnf_matrix = confusion_matrix(y_test_encoded, y_pred_xgb)\n",
    "\n",
    "class_names= ['Low','Nominal','High']\n",
    "\n",
    "fig, ax = plt.subplots(figsize=(7, 6))\n",
    "sns.heatmap(pd.DataFrame(cnf_matrix), annot=True, cmap=\"Blues\", fmt='g')\n",
    "ax.xaxis.set_label_position(\"top\")\n",
    "plt.tight_layout()\n",
    "plt.title('Confusion matrix with labels\\n')\n",
    "plt.ylabel('Actual label')\n",
    "plt.xlabel('Predicted label')\n",
    "tick_marks = [0.5, 1.5,2]\n",
    "plt.xticks(tick_marks, class_names)\n",
    "plt.yticks(tick_marks, class_names)"
   ]
  },
  {
   "cell_type": "code",
   "execution_count": 150,
   "id": "4f5322ca-a673-4a50-9f49-d6536fd01863",
   "metadata": {},
   "outputs": [],
   "source": [
    "#fig.savefig('XGBoost_Confusion_matrix.jpg', bbox_inches='tight', dpi=300)"
   ]
  }
 ],
 "metadata": {
  "kernelspec": {
   "display_name": "Python 3 (ipykernel)",
   "language": "python",
   "name": "python3"
  },
  "language_info": {
   "codemirror_mode": {
    "name": "ipython",
    "version": 3
   },
   "file_extension": ".py",
   "mimetype": "text/x-python",
   "name": "python",
   "nbconvert_exporter": "python",
   "pygments_lexer": "ipython3",
   "version": "3.9.7"
  }
 },
 "nbformat": 4,
 "nbformat_minor": 5
}
